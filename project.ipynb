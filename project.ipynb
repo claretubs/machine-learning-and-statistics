{
 "cells": [
  {
   "cell_type": "markdown",
   "metadata": {},
   "source": [
    "# Machine Learning and Statistics Project\n",
    "By Clare Tubridy\n",
    "***"
   ]
  },
  {
   "cell_type": "markdown",
   "metadata": {},
   "source": [
    "## Background"
   ]
  },
  {
   "cell_type": "markdown",
   "metadata": {},
   "source": [
    "### Project Outline\n",
    ">- The project is to create a notebook exploring classification algorithms applied on the iris flower data set associated with Ronald\n",
    ">A Fisher.\n",
    ">- In your notebook, you should first explain what supervised learning is and then explain what classification algorithms are.\n",
    ">- Describe at least one common classification algorithm and implement it using the scikit-learn Python library.\n",
    ">- Throughout your notebook, use appropriate plots, mathematical\n",
    ">notation, and diagrams to explain the relevant concepts"
   ]
  },
  {
   "cell_type": "markdown",
   "metadata": {},
   "source": [
    "### Irish Flower Dataset\n",
    "The Iris flower data set, otherwise known as Fishers Iris data set, is a multivariate data set used and made famous by the British statistcian and biologist Ronald Fisher in his 1936 paper *\"The use of multiple measurements in taxonomic problems as an example of linear discriminant analysis\"* [2]. Multivariate statistics is a branch of statistics that deals with the analysis of multiple variables at the same time [3]. It involves studying various types of multivariate analysis and their relationships with each other. This data set has since been widely used for pattern recognition and classification tasks in various fields, including machine learning, statistics, and biology. Fisher's Iris data set is a well-known and widely used data set in the field of machine learning and statistics. It is a valuable resource for researchers in this field. Its simplicity and small size make it an ideal starting point for exploring classification algorithms and statistical techniques."
   ]
  },
  {
   "cell_type": "markdown",
   "metadata": {},
   "source": [
    "### Supervised Learning\n",
    "Supervised learning is a subcategory of machine learning and artificial intelligence [1]. It is a type of machine learning where the algorithm is trained on a labeled dataset, which means that the input data consists of both input features and their corresponding correct output. The goal is to learn a mapping function that can accurately predict the output for new, unseen data based on the patterns and relationships learned from the labeled data. Supervised learning helps organisations solve for a variety of real-world problems at scale [1].\n",
    "\n",
    "Supervised leanring can be seperated into two types of problems when data mining [1]. They are classification and regression. Classifcation uses an algorithm to accurately assign test data into specific categories [1]. It recognises specific patterns within the datasets and it tries to draw conclusions on how the patterns should be defined or labeled. Common classification algorithms are k-nearest neighbor, linear classifiers, support vector machines (SVM), decision trees, and random forest. Some of these will be discussed in the following section. Regression is used to understand the relationship between dependent and independent variables [1]. Usually, it is used to make projections, such as the global temperature increases due to climate change. Popular regressions algorithms are as follows, linear regression, logistical regression, and polynomial regression. Supervised learning has many advantages, such as deep data insights and improved automation. However, there are challenges when building sustainable supervised learning models. These challenges include:\n",
    "\n",
    "- The models can require certain levels of expertise to structure accurately [1].\n",
    "- Training the models can be very time intensive. \n",
    "- If there are faults in the dataset due to human error, it results in the algorithms learning incorrectly.\n",
    "- Supervised learning cannot cluster or classify data on its own.\n",
    "\n",
    "***"
   ]
  },
  {
   "cell_type": "markdown",
   "metadata": {},
   "source": [
    "## Classification Algorithms"
   ]
  },
  {
   "cell_type": "markdown",
   "metadata": {},
   "source": [
    "### K-Nearest Neighbor\n",
    "#### Overview\n",
    "This is a simple and effective classification algorithm. K-Nearest Neighbors, otherwise known as K-NN for short, is used to identify the data points that are separated into several classes to predict the classification of a new sample point [4]. It is a non-parametric, lazy learning algorithm. It classfies new cases based on similarity measure [4]. It assumes that similar data points can be found near each other. It calculates the distance between data points, usually through Euclidean distance, and then it assigns a category based on the most frequent category or average [1]. A disadvantage of using this algorithm is as the test dataset grows, the processing time lengthens. For this reason, it makes it less appealing for large classification tasks. "
   ]
  },
  {
   "cell_type": "markdown",
   "metadata": {},
   "source": [
    "#### Implementation"
   ]
  },
  {
   "cell_type": "code",
   "execution_count": 6,
   "metadata": {},
   "outputs": [],
   "source": [
    "# Import necessary libraries.\n",
    "import numpy as np\n",
    "import matplotlib.pyplot as plt\n",
    "from sklearn import datasets\n",
    "from sklearn.model_selection import train_test_split\n",
    "from sklearn.neighbors import KNeighborsClassifier\n",
    "from sklearn.metrics import accuracy_score, confusion_matrix"
   ]
  },
  {
   "cell_type": "code",
   "execution_count": 12,
   "metadata": {},
   "outputs": [
    {
     "name": "stdout",
     "output_type": "stream",
     "text": [
      "Accuracy: 1.00\n"
     ]
    }
   ],
   "source": [
    "# https://www.geeksforgeeks.org/k-nearest-neighbor-algorithm-in-python/\n",
    "# Load the Iris dataset.\n",
    "iris = datasets.load_iris()\n",
    "X = iris.data\n",
    "y = iris.target\n",
    "\n",
    "# Split into training and test set \n",
    "X_train, X_test, y_train, y_test = train_test_split( \n",
    "             X, y, test_size = 0.2, random_state=42)\n",
    "\n",
    "knn = KNeighborsClassifier(n_neighbors=3) \n",
    "  \n",
    "knn.fit(X_train, y_train) \n",
    "  \n",
    "# Predict on dataset which model has not seen before \n",
    "y_pred = knn.predict(X_test)\n",
    "\n",
    "# Evaluate the accuracy of the model\n",
    "accuracy = accuracy_score(y_test, y_pred)\n",
    "print(f\"Accuracy: {accuracy:.2f}\")"
   ]
  },
  {
   "cell_type": "markdown",
   "metadata": {},
   "source": [
    "The accuracy value achieved above means perfect accuracy on the test set. The accuracy is the measure of how many predictions were correct out of the total number of predictions. In this case, 1.0 (or 100%) indicates that every prediction made by the model on the test set was correct. There were no misclassifcations. Another way to check the performance of the machine learning model is a confusion matrix. It is a means of displaying number of accurate and inaccurate instances from the model’s predictions [5]. The matrix displays, the number of instances produced by the model on the test data.\n",
    "- **true positives (TP):** occurs when the model accurately predicts a positive data point.\n",
    "- **true negatives (TN):** occurs when the model accurately predicts a negative data point.\n",
    "- **false positives (FP):** occurs when the model predicts a positive data point incorrectly.\n",
    "- **and false negatives (FN):** occurs when the model predicts a negative data point incorrectly."
   ]
  },
  {
   "cell_type": "code",
   "execution_count": 13,
   "metadata": {},
   "outputs": [
    {
     "name": "stdout",
     "output_type": "stream",
     "text": [
      "Confusion Matrix:\n",
      "[[10  0  0]\n",
      " [ 0  9  0]\n",
      " [ 0  0 11]]\n"
     ]
    }
   ],
   "source": [
    "# Display the confusion matrix\n",
    "conf_matrix = confusion_matrix(y_test, y_pred)\n",
    "print(\"Confusion Matrix:\")\n",
    "print(conf_matrix)"
   ]
  },
  {
   "cell_type": "markdown",
   "metadata": {},
   "source": [
    "Above, it can be seen there are three classes in the confusion matrix. Each row corresponds to the actual class, and each column corresponds to the predicted class. The confusion matrix indicates the model made accurate predictions for all three classes. The absence of off-diagonal elements suggests that there are no false positives or false negatives in the predictions.\n",
    "\n",
    "**Class 0:**\n",
    "- 10 instances were correctly predicted as Class 0 (True Negatives for Class 0).\n",
    "- There are no instances predicted as Class 1 or Class 2 when the true class is Class 0.\n",
    "\n",
    "**Class 1:**\n",
    "- 9 instances were correctly predicted as Class 1 (True Negatives for Class 1).\n",
    "- There are no instances predicted as Class 0 or Class 2 when the true class is Class 1.\n",
    "\n",
    "**Class 2:**\n",
    "- 11 instances were correctly predicted as Class 2 (True Negatives for Class 2).\n",
    "- There are no instances predicted as Class 0 or Class 1 when the true class is Class 2."
   ]
  },
  {
   "cell_type": "markdown",
   "metadata": {},
   "source": [
    "### Linear Classifiers"
   ]
  },
  {
   "cell_type": "markdown",
   "metadata": {},
   "source": [
    "### Support Vector Machines (SVM)"
   ]
  },
  {
   "cell_type": "markdown",
   "metadata": {},
   "source": [
    "### Decision Trees"
   ]
  },
  {
   "cell_type": "markdown",
   "metadata": {},
   "source": [
    "### Random Forest"
   ]
  },
  {
   "cell_type": "markdown",
   "metadata": {},
   "source": [
    "###  Linear Regression"
   ]
  },
  {
   "cell_type": "markdown",
   "metadata": {},
   "source": [
    "## References \n",
    "[1] *What is supervised learning?*, *IBM*, https://www.ibm.com/topics/supervised-learning#:~:text=Supervised%20learning%2C%20also%20known%20as%20supervised%20machine%20learning%2C,that%20to%20classify%20data%20or%20predict%20outcomes%20accurately.\n",
    "<br>\n",
    "[2] *Ronald Fisher*, *Wikipedia*, https://en.wikipedia.org/wiki/Ronald_Fisher\n",
    "<br>\n",
    "[3] *Multivariate statistics*, *Wikipedia*, https://en.wikipedia.org/wiki/Multivariate_statistics\n",
    "<br>\n",
    "[4] *5 Classification Algorithms for Machine Learning*, *Badreesh Shetty*, https://builtin.com/data-science/supervised-machine-learning-classification\n",
    "<br>\n",
    "[5] *Confusion Matrix in Machine Learning*, *GeeksforGeeks*, https://www.geeksforgeeks.org/confusion-matrix-machine-learning/"
   ]
  },
  {
   "cell_type": "markdown",
   "metadata": {},
   "source": [
    "***\n",
    "# End"
   ]
  }
 ],
 "metadata": {
  "kernelspec": {
   "display_name": "base",
   "language": "python",
   "name": "python3"
  },
  "language_info": {
   "codemirror_mode": {
    "name": "ipython",
    "version": 3
   },
   "file_extension": ".py",
   "mimetype": "text/x-python",
   "name": "python",
   "nbconvert_exporter": "python",
   "pygments_lexer": "ipython3",
   "version": "3.10.13"
  },
  "orig_nbformat": 4
 },
 "nbformat": 4,
 "nbformat_minor": 2
}
