{
 "cells": [
  {
   "cell_type": "markdown",
   "metadata": {},
   "source": [
    "# Machine Learning and Statistics Project\n",
    "By Clare Tubridy\n",
    "***"
   ]
  },
  {
   "cell_type": "markdown",
   "metadata": {},
   "source": [
    "## Background"
   ]
  },
  {
   "cell_type": "markdown",
   "metadata": {},
   "source": [
    "### Project Outline\n",
    ">The project is to create a notebook exploring classification algorithms applied on the iris flower data set associated with Ronald\n",
    ">A Fisher.\n",
    ">- In your notebook, you should first explain what supervised learning is and then explain what classification algorithms are.\n",
    ">- Describe at least one common classification algorithm and implement it using the scikit-learn Python library.\n",
    ">- Throughout your notebook, use appropriate plots, mathematical\n",
    ">notation, and diagrams to explain the relevant concepts"
   ]
  },
  {
   "cell_type": "markdown",
   "metadata": {},
   "source": [
    "### Irish Flower Dataset\n",
    "The Iris flower data set, otherwise known as Fishers Iris data set, is a multivariate data set used and made famous by the British statistcian and biologist Ronald Fisher in his 1936 paper *\"The use of multiple measurements in taxonomic problems as an example of linear discriminant analysis\"* [2]. Multivariate statistics is a branch of statistics that deals with the analysis of multiple variables at the same time [3]. It involves studying various types of multivariate analysis and their relationships with each other. This data set has since been widely used for pattern recognition and classification tasks in various fields, including machine learning, statistics, and biology. Fisher's Iris data set is a well-known and widely used data set in the field of machine learning and statistics. It is a valuable resource for researchers in this field. Its simplicity and small size make it an ideal starting point for exploring classification algorithms and statistical techniques."
   ]
  },
  {
   "cell_type": "markdown",
   "metadata": {},
   "source": [
    "### Supervised Learning\n",
    "Supervised learning is a subcategory of machine learning and artificial intelligence [1].  "
   ]
  },
  {
   "cell_type": "markdown",
   "metadata": {},
   "source": [
    "## Classification Algorithms"
   ]
  },
  {
   "cell_type": "markdown",
   "metadata": {},
   "source": [
    "## Choosen Common Classification Algorithm\n",
    "### Overview"
   ]
  },
  {
   "cell_type": "markdown",
   "metadata": {},
   "source": [
    "### Implementation"
   ]
  },
  {
   "cell_type": "code",
   "execution_count": 1,
   "metadata": {},
   "outputs": [],
   "source": [
    "# Import necessary libraries.\n",
    "import numpy as np\n",
    "import matplotlib.pyplot as plt\n",
    "from sklearn import datasets"
   ]
  },
  {
   "cell_type": "code",
   "execution_count": null,
   "metadata": {},
   "outputs": [],
   "source": [
    "# Load the Iris dataset.\n",
    "iris = datasets.load_iris()\n",
    "X = iris.data\n",
    "y = iris.target"
   ]
  },
  {
   "cell_type": "markdown",
   "metadata": {},
   "source": [
    "## References \n",
    "[1] *What is supervised learning?*, *IBM*, https://www.ibm.com/topics/supervised-learning#:~:text=Supervised%20learning%2C%20also%20known%20as%20supervised%20machine%20learning%2C,that%20to%20classify%20data%20or%20predict%20outcomes%20accurately.\n",
    "<br>\n",
    "[2] *Ronald Fisher*, *Wikipedia*, https://en.wikipedia.org/wiki/Ronald_Fisher\n",
    "<br>\n",
    "[3] *Multivariate statistics*, *Wikipedia*, https://en.wikipedia.org/wiki/Multivariate_statistics\n",
    "<br>\n",
    "[4]"
   ]
  },
  {
   "cell_type": "markdown",
   "metadata": {},
   "source": [
    "***\n",
    "# End"
   ]
  }
 ],
 "metadata": {
  "kernelspec": {
   "display_name": "base",
   "language": "python",
   "name": "python3"
  },
  "language_info": {
   "codemirror_mode": {
    "name": "ipython",
    "version": 3
   },
   "file_extension": ".py",
   "mimetype": "text/x-python",
   "name": "python",
   "nbconvert_exporter": "python",
   "pygments_lexer": "ipython3",
   "version": "3.10.13"
  },
  "orig_nbformat": 4
 },
 "nbformat": 4,
 "nbformat_minor": 2
}
